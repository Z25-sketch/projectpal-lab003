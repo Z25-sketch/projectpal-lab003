{
  "cells": [
    {
      "cell_type": "markdown",
      "id": "702ecf7a",
      "metadata": {
        "id": "702ecf7a"
      },
      "source": [
        "# 🧠 projectPal Lab #003: WBS + No-Code MVP Launch Plan\n",
        "\n",
        "**Lab Type:** MVP/Product  \n",
        "**Estimated Time:** 180–360 mins  \n",
        "**Skill Level:** Advanced"
      ]
    },
    {
      "cell_type": "code",
      "execution_count": 1,
      "id": "e11450a6",
      "metadata": {
        "colab": {
          "base_uri": "https://localhost:8080/"
        },
        "id": "e11450a6",
        "outputId": "c16160aa-346d-489d-84e8-0d292abd4f24"
      },
      "outputs": [
        {
          "output_type": "stream",
          "name": "stdout",
          "text": [
            "Welcome to the lab, Zion Chapman!\n"
          ]
        }
      ],
      "source": [
        "# Let's begin by printing your name to personalize the notebook\n",
        "your_name = \"Zion Chapman\"\n",
        "print(f\"Welcome to the lab, {your_name}!\")"
      ]
    },
    {
      "cell_type": "markdown",
      "id": "24730b03",
      "metadata": {
        "id": "24730b03"
      },
      "source": [
        "## 🔍 STAR Method Lab Prompt\n",
        "\n",
        "**Situation:**  \n",
        "[How do plan, track, and manage all the tasks involved in this campaign? Starting from design and presentation, what ways can we measure success? We need to plan on who is doing what and how to track the progeess.]\n",
        "\n",
        "**Task:**  \n",
        "[A Kanban Board]\n",
        "\n",
        "**Action:**  \n",
        "[We will be using a Kanban board to visually break down and manage the tasks for the \"Green Club Recycling Awareness Campaign.]\n",
        "\n",
        "**Expected Result:**  \n",
        "[The Kanban board that the Green Club could use as a real project output to manage their recycling campaign. This visual plan helps the team to organize tasks and track their progress. Also, help the team to understand their responsibility.]"
      ]
    },
    {
      "cell_type": "markdown",
      "id": "b1f9b17c",
      "metadata": {
        "id": "b1f9b17c"
      },
      "source": [
        "## ✍️ My Assignment\n",
        "\n",
        "_Use this section to complete your deliverable:_\n",
        "\n",
        "```markdown\n",
        "(Example Format)\n",
        "\n",
        "- **Platform**: Softr + Airtable  \n",
        "- **WBS Levels**: App structure → pages → content → integrations  \n",
        "- **Goal**: MVP launch in 3 weeks  \n",
        "- **STAR Output**:  \n",
        "     - S: Client needs MVP but lacks structure\n",
        "\n",
        "     - T: Break down into steps using WBS +  no-code\n",
        "\n",
        "     -  A: Used Gemini to plan & Softr to build\n",
        "\n",
        "     - R: Clickable MVP + documentation\n",
        "```"
      ]
    }
  ],
  "metadata": {
    "colab": {
      "provenance": []
    },
    "language_info": {
      "name": "python"
    },
    "kernelspec": {
      "name": "python3",
      "display_name": "Python 3"
    }
  },
  "nbformat": 4,
  "nbformat_minor": 5
}